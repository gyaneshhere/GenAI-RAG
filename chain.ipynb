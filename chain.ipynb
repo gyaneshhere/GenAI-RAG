{
 "cells": [
  {
   "cell_type": "markdown",
   "id": "6a109601-f9bd-493c-a018-f5600a13b4aa",
   "metadata": {},
   "source": [
    "###Agent Based RAG########"
   ]
  },
  {
   "cell_type": "code",
   "execution_count": 10,
   "id": "0cdb2e91-02cb-4a64-a1db-cb762d80617c",
   "metadata": {},
   "outputs": [],
   "source": [
    "import os\n",
    "from dotenv import load_dotenv, find_dotenv\n",
    "\n",
    "load_dotenv(find_dotenv())\n",
    "from langchain_community.chat_models import ChatOpenAI\n",
    "from langchain_community.embeddings import OpenAIEmbeddings\n",
    "from langchain_community.vectorstores import Pinecone\n",
    "from langchain_core.output_parsers import StrOutputParser\n",
    "from langchain_core.prompts import ChatPromptTemplate\n",
    "from langchain_core.runnables import RunnableParallel, RunnablePassthrough\n",
    "from langchain_core.pydantic_v1 import BaseModel\n"
   ]
  },
  {
   "cell_type": "code",
   "execution_count": 11,
   "id": "763ca124-3e84-4b9a-9ff1-a3db558c0601",
   "metadata": {},
   "outputs": [],
   "source": [
    "# Ensure the necessary environment variables are set\n",
    "if os.environ.get(\"PINECONE_API_KEY\", None) is None:\n",
    "    raise Exception(\"Missing `PINECONE_API_KEY` environment variable.\")\n",
    "\n",
    "if os.environ.get(\"PINECONE_ENVIRONMENT\", None) is None:\n",
    "    raise Exception(\"Missing `PINECONE_ENVIRONMENT` environment variable.\")"
   ]
  },
  {
   "cell_type": "code",
   "execution_count": 12,
   "id": "80accd43-6a1e-4f9f-a9a0-fabf52e7a213",
   "metadata": {},
   "outputs": [
    {
     "data": {
      "text/plain": [
       "'477903e8-4649-4f06-ab0a-0e58be60b327'"
      ]
     },
     "execution_count": 12,
     "metadata": {},
     "output_type": "execute_result"
    }
   ],
   "source": [
    "os.environ.get(\"PINECONE_API_KEY\")"
   ]
  },
  {
   "cell_type": "code",
   "execution_count": 13,
   "id": "cdb449c3-d4dd-4fe3-bc7f-1991460840f5",
   "metadata": {},
   "outputs": [],
   "source": [
    "# Define the Pinecone index name\n",
    "PINECONE_INDEX_NAME = os.environ.get(\"PINECONE_INDEX\", \"langchain-test\")"
   ]
  },
  {
   "cell_type": "code",
   "execution_count": 15,
   "id": "8036a119-0ad0-44ba-9532-7b11095c363d",
   "metadata": {},
   "outputs": [
    {
     "name": "stderr",
     "output_type": "stream",
     "text": [
      "/Library/Frameworks/Python.framework/Versions/3.11/lib/python3.11/site-packages/langchain_core/_api/deprecation.py:117: LangChainDeprecationWarning: The class `langchain_community.embeddings.openai.OpenAIEmbeddings` was deprecated in langchain-community 0.1.0 and will be removed in 0.2.0. An updated version of the class exists in the langchain-openai package and should be used instead. To use it run `pip install -U langchain-openai` and import as `from langchain_openai import OpenAIEmbeddings`.\n",
      "  warn_deprecated(\n",
      "/Library/Frameworks/Python.framework/Versions/3.11/lib/python3.11/site-packages/pinecone/data/index.py:1: TqdmWarning: IProgress not found. Please update jupyter and ipywidgets. See https://ipywidgets.readthedocs.io/en/stable/user_install.html\n",
      "  from tqdm.autonotebook import tqdm\n"
     ]
    }
   ],
   "source": [
    "# Load the existing Pinecone index\n",
    "vectorstore = Pinecone.from_existing_index(PINECONE_INDEX_NAME, OpenAIEmbeddings())\n",
    "retriever = vectorstore.as_retriever()"
   ]
  },
  {
   "cell_type": "code",
   "execution_count": 16,
   "id": "5a6541d2-14a1-4ebf-9f93-7fbb18a1501b",
   "metadata": {},
   "outputs": [],
   "source": [
    "# Define the RAG prompt\n",
    "template = \"\"\"Answer the question based only on the following context:\n",
    "{context}\n",
    "Question: {question}\n",
    "\"\"\"\n",
    "prompt = ChatPromptTemplate.from_template(template)"
   ]
  },
  {
   "cell_type": "code",
   "execution_count": 17,
   "id": "bfe65888-f99c-4983-b84c-979042be8ee7",
   "metadata": {},
   "outputs": [
    {
     "name": "stderr",
     "output_type": "stream",
     "text": [
      "/Library/Frameworks/Python.framework/Versions/3.11/lib/python3.11/site-packages/langchain_core/_api/deprecation.py:117: LangChainDeprecationWarning: The class `langchain_community.chat_models.openai.ChatOpenAI` was deprecated in langchain-community 0.0.10 and will be removed in 0.2.0. An updated version of the class exists in the langchain-openai package and should be used instead. To use it run `pip install -U langchain-openai` and import as `from langchain_openai import ChatOpenAI`.\n",
      "  warn_deprecated(\n"
     ]
    }
   ],
   "source": [
    "# Define the RAG model\n",
    "model = ChatOpenAI()\n",
    "chain = (\n",
    "    RunnableParallel({\"context\": retriever, \"question\": RunnablePassthrough()})\n",
    "    | prompt\n",
    "    | model\n",
    "    | StrOutputParser()\n",
    ")"
   ]
  },
  {
   "cell_type": "code",
   "execution_count": 18,
   "id": "91a80f76-f4cd-4d31-b62d-db9675c228b1",
   "metadata": {},
   "outputs": [],
   "source": [
    "# Define the input type\n",
    "class Question(BaseModel):\n",
    "    __root__: str\n",
    "\n",
    "chain = chain.with_types(input_type=Question)"
   ]
  },
  {
   "cell_type": "code",
   "execution_count": null,
   "id": "5ce815db-65da-40ef-aafb-74a8d1733bbf",
   "metadata": {},
   "outputs": [],
   "source": []
  }
 ],
 "metadata": {
  "kernelspec": {
   "display_name": "Python 3 (ipykernel)",
   "language": "python",
   "name": "python3"
  },
  "language_info": {
   "codemirror_mode": {
    "name": "ipython",
    "version": 3
   },
   "file_extension": ".py",
   "mimetype": "text/x-python",
   "name": "python",
   "nbconvert_exporter": "python",
   "pygments_lexer": "ipython3",
   "version": "3.11.8"
  }
 },
 "nbformat": 4,
 "nbformat_minor": 5
}
